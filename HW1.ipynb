{
 "cells": [
  {
   "cell_type": "code",
   "execution_count": 68,
   "id": "3f50faaa-e77e-44f8-8c4d-53b8646df105",
   "metadata": {},
   "outputs": [],
   "source": [
    "#Easy \n",
    "#Нужно написать функцию, которая на вход получает список из чисел, а на выходе дает список, где каждое число возведено в квадрат. Решать при помощи цикла. \n",
    "\n",
    "#Попробовать на вход: \n",
    "#list(range(10))\n",
    "#list(range(100))\n",
    "#list()\n",
    "\n",
    "\n",
    "def square_list(in_list):\n",
    "    new_list = []\n",
    "    for i in in_list:\n",
    "        new_list.append(i ** 2)\n",
    "    return new_list\n",
    "\n",
    "#test1_list = [1,2,3,4,5,6,7,8,9,10]\n",
    "#print(square_list(test1_list))\n",
    "\n",
    "test2_list = [value for value in range(100)]\n",
    "#print(square_list(test2_list))\n",
    "    \n"
   ]
  },
  {
   "cell_type": "code",
   "execution_count": 69,
   "id": "77bfff79-d8ac-4853-b382-ccc741bb4bc4",
   "metadata": {},
   "outputs": [
    {
     "name": "stdout",
     "output_type": "stream",
     "text": [
      "20.9 µs ± 65.9 ns per loop (mean ± std. dev. of 7 runs, 10000 loops each)\n"
     ]
    }
   ],
   "source": [
    "%%timeit\n",
    "\n",
    "test2_new = square_list(test2_list)"
   ]
  },
  {
   "cell_type": "code",
   "execution_count": 70,
   "id": "c1e06827-4bfd-4069-a4a1-2f6a2b0667a6",
   "metadata": {},
   "outputs": [],
   "source": [
    "#Normal\n",
    "#Тоже самое, но на этот раз без цикла\n",
    "#(смотрим раздел с функциями из ноутбука, который разбирали в классе). \n",
    "#Сравнить скорость выполнения первого и второго варианта.\n",
    "\n",
    "\n",
    "def square_el(x):\n",
    "    return x * x\n",
    "\n",
    "test3_list = [i for i in range(100)]\n",
    "#print(list(map(square_el, test3_list)))\n"
   ]
  },
  {
   "cell_type": "code",
   "execution_count": 71,
   "id": "f6d833aa-05d5-488a-a6ac-80645d7ebe56",
   "metadata": {},
   "outputs": [
    {
     "name": "stdout",
     "output_type": "stream",
     "text": [
      "4.48 µs ± 21.1 ns per loop (mean ± std. dev. of 7 runs, 100000 loops each)\n"
     ]
    }
   ],
   "source": [
    "%%timeit\n",
    "\n",
    "test_3_new = list(map(square_el, test3_list))"
   ]
  },
  {
   "cell_type": "code",
   "execution_count": 72,
   "id": "1553700a-efe8-4c65-ae24-19a9af73eae2",
   "metadata": {},
   "outputs": [],
   "source": [
    "#Hard\n",
    "#Написать функцию, которая на вход принимает список, \n",
    "#а возвращает словарь со среднием, медианой и модой, \n",
    "#например вот такой: {\"mean\": ..., \"median\": ..., \"mode\": ...}. \n",
    "#На следующем занятии разберем как это сделать при помощи библиотек, \n",
    "#а пока можно реализовать просто по формулам.\n",
    "\n",
    "#Пример:\n",
    "#[0, 1, 1, 10, 5, 4, 3]\n",
    "#->\n",
    "#{\"mean\": 3.4285, \"median\": 3, \"mode\": 1}\n",
    "\n",
    "#предполагаем, что мода одна\n",
    "\n",
    "from collections import Counter\n",
    "\n",
    "def mememo (in_list):\n",
    "    # mean\n",
    "    sum = 0\n",
    "    for i in in_list:\n",
    "        sum = sum + i\n",
    "    mean = sum / len(in_list)\n",
    "    \n",
    "    # median\n",
    "    sort_list = sorted(in_list)\n",
    "    #print(len(sort_list))\n",
    "    #print(sort_list)\n",
    "    if (len(sort_list)%2 ==0):\n",
    "        med_num = int(len(sort_list)/2)-1\n",
    "        median = (sort_list[med_num]+sort_list[med_num+1])/2\n",
    "    else:\n",
    "        med_num = int(len(sort_list)/2 - 0.5)\n",
    "        median = sort_list[med_num]\n",
    "        \n",
    "    #mode\n",
    "    c = Counter(sort_list)\n",
    "    #print(c)\n",
    "    mode = c.most_common(1)[0][0] \n",
    "    \n",
    "    dict = {\"mean\": mean , \"median\": median, \"mode\": mode}\n",
    "    return dict\n",
    "\n"
   ]
  },
  {
   "cell_type": "code",
   "execution_count": 74,
   "id": "c91698bd-17c3-479f-ad8d-5bbc688d94b5",
   "metadata": {},
   "outputs": [
    {
     "name": "stdout",
     "output_type": "stream",
     "text": [
      "{'mean': 3.4285714285714284, 'median': 3, 'mode': 1}\n"
     ]
    }
   ],
   "source": [
    "hard_list = [0, 1, 1, 10, 5, 4, 3]\n",
    "\n",
    "print(mememo(hard_list))"
   ]
  },
  {
   "cell_type": "code",
   "execution_count": null,
   "id": "f107d2e1-2655-4cfe-90d3-7101fe8579d4",
   "metadata": {},
   "outputs": [],
   "source": []
  }
 ],
 "metadata": {
  "kernelspec": {
   "display_name": "Python 3 (ipykernel)",
   "language": "python",
   "name": "python3"
  },
  "language_info": {
   "codemirror_mode": {
    "name": "ipython",
    "version": 3
   },
   "file_extension": ".py",
   "mimetype": "text/x-python",
   "name": "python",
   "nbconvert_exporter": "python",
   "pygments_lexer": "ipython3",
   "version": "3.9.7"
  }
 },
 "nbformat": 4,
 "nbformat_minor": 5
}
